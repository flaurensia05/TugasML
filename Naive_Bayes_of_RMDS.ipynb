{
  "nbformat": 4,
  "nbformat_minor": 0,
  "metadata": {
    "colab": {
      "name": "Naive Bayes of RMDS.ipynb",
      "provenance": [],
      "collapsed_sections": []
    },
    "kernelspec": {
      "name": "python3",
      "display_name": "Python 3"
    },
    "language_info": {
      "name": "python"
    }
  },
  "cells": [
    {
      "cell_type": "code",
      "metadata": {
        "id": "3YsEGbFCPuVl"
      },
      "source": [
        "import numpy as np\n",
        "import pandas as pd\n",
        "import matplotlib.pyplot as plt\n",
        "import sklearn\n"
      ],
      "execution_count": 3,
      "outputs": []
    },
    {
      "cell_type": "code",
      "metadata": {
        "colab": {
          "base_uri": "https://localhost:8080/",
          "height": 1000
        },
        "id": "Ehq-R3FZzaJl",
        "outputId": "cd44b9ad-766f-4751-a1a5-0b7e6f74f5d6"
      },
      "source": [
        "path = \"https://github.com/flaurensia05/TugasML/blob/main/Q3_competition_detail_dataset.xlsx?raw=true\"\n",
        "dataset = pd.read_excel (path)\n",
        "dataset"
      ],
      "execution_count": 4,
      "outputs": [
        {
          "output_type": "execute_result",
          "data": {
            "text/html": [
              "<div>\n",
              "<style scoped>\n",
              "    .dataframe tbody tr th:only-of-type {\n",
              "        vertical-align: middle;\n",
              "    }\n",
              "\n",
              "    .dataframe tbody tr th {\n",
              "        vertical-align: top;\n",
              "    }\n",
              "\n",
              "    .dataframe thead th {\n",
              "        text-align: right;\n",
              "    }\n",
              "</style>\n",
              "<table border=\"1\" class=\"dataframe\">\n",
              "  <thead>\n",
              "    <tr style=\"text-align: right;\">\n",
              "      <th></th>\n",
              "      <th>id</th>\n",
              "      <th>name</th>\n",
              "      <th>is_claimed</th>\n",
              "      <th>is_closed</th>\n",
              "      <th>phone</th>\n",
              "      <th>review_count</th>\n",
              "      <th>categories01</th>\n",
              "      <th>categories02</th>\n",
              "      <th>categories03</th>\n",
              "      <th>rating</th>\n",
              "      <th>price</th>\n",
              "      <th>transactions</th>\n",
              "      <th>zip_code</th>\n",
              "      <th>city</th>\n",
              "      <th>address</th>\n",
              "      <th>restaurant_url</th>\n",
              "      <th>image_url</th>\n",
              "      <th>latitude</th>\n",
              "      <th>longitude</th>\n",
              "      <th>photos</th>\n",
              "      <th>cross_streets</th>\n",
              "    </tr>\n",
              "  </thead>\n",
              "  <tbody>\n",
              "    <tr>\n",
              "      <th>0</th>\n",
              "      <td>nzgC5hhlnSq2DYbJbtH5MQ</td>\n",
              "      <td>Foxy's Landing &amp; Restaurant</td>\n",
              "      <td>True</td>\n",
              "      <td>False</td>\n",
              "      <td>1.661949e+10</td>\n",
              "      <td>52</td>\n",
              "      <td>breakfast_brunch</td>\n",
              "      <td>tradamerican</td>\n",
              "      <td>NaN</td>\n",
              "      <td>4.0</td>\n",
              "      <td>$$</td>\n",
              "      <td>[]</td>\n",
              "      <td>93536.0</td>\n",
              "      <td>Lancaster</td>\n",
              "      <td>['4555 W Avenue G', 'Lancaster, CA 93536']</td>\n",
              "      <td>https://www.yelp.com/biz/foxys-landing-and-res...</td>\n",
              "      <td>https://s3-media1.fl.yelpcdn.com/bphoto/LooWtz...</td>\n",
              "      <td>34.738829</td>\n",
              "      <td>-118.216215</td>\n",
              "      <td>['https://s3-media1.fl.yelpcdn.com/bphoto/LooW...</td>\n",
              "      <td>NaN</td>\n",
              "    </tr>\n",
              "    <tr>\n",
              "      <th>1</th>\n",
              "      <td>i-2aG9_PQBEy7LrsRv0Ivg</td>\n",
              "      <td>Mosman's Steakhouse</td>\n",
              "      <td>True</td>\n",
              "      <td>False</td>\n",
              "      <td>1.661949e+10</td>\n",
              "      <td>63</td>\n",
              "      <td>bars</td>\n",
              "      <td>steak</td>\n",
              "      <td>NaN</td>\n",
              "      <td>3.5</td>\n",
              "      <td>$$</td>\n",
              "      <td>[]</td>\n",
              "      <td>93536.0</td>\n",
              "      <td>Lancaster</td>\n",
              "      <td>['46645 W 60th W', 'Lancaster, CA 93536']</td>\n",
              "      <td>https://www.yelp.com/biz/mosmans-steakhouse-la...</td>\n",
              "      <td>https://s3-media3.fl.yelpcdn.com/bphoto/JJ3mkC...</td>\n",
              "      <td>34.730580</td>\n",
              "      <td>-118.238360</td>\n",
              "      <td>['https://s3-media3.fl.yelpcdn.com/bphoto/JJ3m...</td>\n",
              "      <td>NaN</td>\n",
              "    </tr>\n",
              "    <tr>\n",
              "      <th>2</th>\n",
              "      <td>DJoeogRsOW5s9MzgveHQ2A</td>\n",
              "      <td>El Tamarindo</td>\n",
              "      <td>True</td>\n",
              "      <td>False</td>\n",
              "      <td>1.661723e+10</td>\n",
              "      <td>11</td>\n",
              "      <td>salvadoran</td>\n",
              "      <td>NaN</td>\n",
              "      <td>NaN</td>\n",
              "      <td>3.5</td>\n",
              "      <td>$</td>\n",
              "      <td>[]</td>\n",
              "      <td>93534.0</td>\n",
              "      <td>Lancaster</td>\n",
              "      <td>['551 W Ave I', 'Ste E', 'Lancaster, CA 93534']</td>\n",
              "      <td>https://www.yelp.com/biz/el-tamarindo-lancaste...</td>\n",
              "      <td>https://s3-media1.fl.yelpcdn.com/bphoto/UMSkfH...</td>\n",
              "      <td>34.707469</td>\n",
              "      <td>-118.146286</td>\n",
              "      <td>['https://s3-media1.fl.yelpcdn.com/bphoto/UMSk...</td>\n",
              "      <td>NaN</td>\n",
              "    </tr>\n",
              "    <tr>\n",
              "      <th>3</th>\n",
              "      <td>hwWfv3sSxV3a47UAdSVT5w</td>\n",
              "      <td>Subway</td>\n",
              "      <td>True</td>\n",
              "      <td>False</td>\n",
              "      <td>1.661730e+10</td>\n",
              "      <td>13</td>\n",
              "      <td>sandwiches</td>\n",
              "      <td>NaN</td>\n",
              "      <td>NaN</td>\n",
              "      <td>2.5</td>\n",
              "      <td>$</td>\n",
              "      <td>['delivery', 'pickup']</td>\n",
              "      <td>93535.0</td>\n",
              "      <td>Lancaster</td>\n",
              "      <td>['1821 W Ave I', 'Unit 103', 'Lancaster, CA 93...</td>\n",
              "      <td>https://www.yelp.com/biz/subway-lancaster-106?...</td>\n",
              "      <td>https://s3-media3.fl.yelpcdn.com/bphoto/4Yo7Ea...</td>\n",
              "      <td>34.705218</td>\n",
              "      <td>-118.164180</td>\n",
              "      <td>['https://s3-media3.fl.yelpcdn.com/bphoto/4Yo7...</td>\n",
              "      <td>NaN</td>\n",
              "    </tr>\n",
              "    <tr>\n",
              "      <th>4</th>\n",
              "      <td>TxU0fwF2N2nVhCpzokc1Pg</td>\n",
              "      <td>Little Caesars</td>\n",
              "      <td>True</td>\n",
              "      <td>False</td>\n",
              "      <td>1.661946e+10</td>\n",
              "      <td>54</td>\n",
              "      <td>pizza</td>\n",
              "      <td>NaN</td>\n",
              "      <td>NaN</td>\n",
              "      <td>1.5</td>\n",
              "      <td>$</td>\n",
              "      <td>[]</td>\n",
              "      <td>93534.0</td>\n",
              "      <td>Lancaster</td>\n",
              "      <td>['1841 W Ave I', 'Bldg 2, Ste D', 'Lancaster, ...</td>\n",
              "      <td>https://www.yelp.com/biz/little-caesars-lancas...</td>\n",
              "      <td>https://s3-media2.fl.yelpcdn.com/bphoto/-Fz1W5...</td>\n",
              "      <td>34.705100</td>\n",
              "      <td>-118.164870</td>\n",
              "      <td>['https://s3-media2.fl.yelpcdn.com/bphoto/-Fz1...</td>\n",
              "      <td>NaN</td>\n",
              "    </tr>\n",
              "    <tr>\n",
              "      <th>...</th>\n",
              "      <td>...</td>\n",
              "      <td>...</td>\n",
              "      <td>...</td>\n",
              "      <td>...</td>\n",
              "      <td>...</td>\n",
              "      <td>...</td>\n",
              "      <td>...</td>\n",
              "      <td>...</td>\n",
              "      <td>...</td>\n",
              "      <td>...</td>\n",
              "      <td>...</td>\n",
              "      <td>...</td>\n",
              "      <td>...</td>\n",
              "      <td>...</td>\n",
              "      <td>...</td>\n",
              "      <td>...</td>\n",
              "      <td>...</td>\n",
              "      <td>...</td>\n",
              "      <td>...</td>\n",
              "      <td>...</td>\n",
              "      <td>...</td>\n",
              "    </tr>\n",
              "    <tr>\n",
              "      <th>10705</th>\n",
              "      <td>7mOOAeGIh2QL3GBCbAspYA</td>\n",
              "      <td>San Antonio Restaurant</td>\n",
              "      <td>True</td>\n",
              "      <td>False</td>\n",
              "      <td>1.424287e+10</td>\n",
              "      <td>12</td>\n",
              "      <td>mexican</td>\n",
              "      <td>salvadoran</td>\n",
              "      <td>NaN</td>\n",
              "      <td>4.0</td>\n",
              "      <td>NaN</td>\n",
              "      <td>['delivery', 'pickup']</td>\n",
              "      <td>90731.0</td>\n",
              "      <td>SAN PEDRO</td>\n",
              "      <td>['234 N Pacific Ave', 'SAN PEDRO, CA 90731']</td>\n",
              "      <td>https://www.yelp.com/biz/san-antonio-restauran...</td>\n",
              "      <td>https://s3-media2.fl.yelpcdn.com/bphoto/fbWrH0...</td>\n",
              "      <td>33.744806</td>\n",
              "      <td>-118.287750</td>\n",
              "      <td>['https://s3-media2.fl.yelpcdn.com/bphoto/fbWr...</td>\n",
              "      <td>NaN</td>\n",
              "    </tr>\n",
              "    <tr>\n",
              "      <th>10706</th>\n",
              "      <td>Qd8G5bJaOQp17q33q-5rjg</td>\n",
              "      <td>Prontos Market</td>\n",
              "      <td>False</td>\n",
              "      <td>False</td>\n",
              "      <td>NaN</td>\n",
              "      <td>3</td>\n",
              "      <td>mexican</td>\n",
              "      <td>importedfood</td>\n",
              "      <td>NaN</td>\n",
              "      <td>3.5</td>\n",
              "      <td>NaN</td>\n",
              "      <td>[]</td>\n",
              "      <td>90731.0</td>\n",
              "      <td>Los Angeles</td>\n",
              "      <td>['210 N Pacific Ave', 'Los Angeles, CA 90731']</td>\n",
              "      <td>https://www.yelp.com/biz/prontos-market-los-an...</td>\n",
              "      <td>https://s3-media3.fl.yelpcdn.com/bphoto/GYHteF...</td>\n",
              "      <td>33.744434</td>\n",
              "      <td>-118.287743</td>\n",
              "      <td>['https://s3-media3.fl.yelpcdn.com/bphoto/GYHt...</td>\n",
              "      <td>NaN</td>\n",
              "    </tr>\n",
              "    <tr>\n",
              "      <th>10707</th>\n",
              "      <td>tNQjsxKstD0pHs-iVjnsrw</td>\n",
              "      <td>El Pollo Loco</td>\n",
              "      <td>True</td>\n",
              "      <td>False</td>\n",
              "      <td>1.310241e+10</td>\n",
              "      <td>165</td>\n",
              "      <td>mexican</td>\n",
              "      <td>hotdogs</td>\n",
              "      <td>NaN</td>\n",
              "      <td>1.5</td>\n",
              "      <td>$</td>\n",
              "      <td>['delivery']</td>\n",
              "      <td>90731.0</td>\n",
              "      <td>San Pedro</td>\n",
              "      <td>['215 N Gaffey St', 'San Pedro, CA 90731']</td>\n",
              "      <td>https://www.yelp.com/biz/el-pollo-loco-san-ped...</td>\n",
              "      <td>https://s3-media4.fl.yelpcdn.com/bphoto/ocue3R...</td>\n",
              "      <td>33.744414</td>\n",
              "      <td>-118.292542</td>\n",
              "      <td>['https://s3-media4.fl.yelpcdn.com/bphoto/ocue...</td>\n",
              "      <td>NaN</td>\n",
              "    </tr>\n",
              "    <tr>\n",
              "      <th>10708</th>\n",
              "      <td>A1k_7CpM0cFoEN2I-6gC2A</td>\n",
              "      <td>La Perla Tapatia Meat Market</td>\n",
              "      <td>True</td>\n",
              "      <td>False</td>\n",
              "      <td>1.310221e+10</td>\n",
              "      <td>81</td>\n",
              "      <td>mexican</td>\n",
              "      <td>meats</td>\n",
              "      <td>NaN</td>\n",
              "      <td>4.5</td>\n",
              "      <td>$</td>\n",
              "      <td>['delivery', 'pickup']</td>\n",
              "      <td>90731.0</td>\n",
              "      <td>Los Angeles</td>\n",
              "      <td>['210 N Pacific Ave', 'Los Angeles, CA 90731']</td>\n",
              "      <td>https://www.yelp.com/biz/la-perla-tapatia-meat...</td>\n",
              "      <td>https://s3-media1.fl.yelpcdn.com/bphoto/xFQsSX...</td>\n",
              "      <td>33.744398</td>\n",
              "      <td>-118.287745</td>\n",
              "      <td>['https://s3-media1.fl.yelpcdn.com/bphoto/xFQs...</td>\n",
              "      <td>NaN</td>\n",
              "    </tr>\n",
              "    <tr>\n",
              "      <th>10709</th>\n",
              "      <td>R3LoXVj1nnc7FE7klhJdLA</td>\n",
              "      <td>Tacos Tamix Truck #1</td>\n",
              "      <td>False</td>\n",
              "      <td>False</td>\n",
              "      <td>1.323744e+10</td>\n",
              "      <td>3</td>\n",
              "      <td>foodtrucks</td>\n",
              "      <td>tacos</td>\n",
              "      <td>NaN</td>\n",
              "      <td>3.5</td>\n",
              "      <td>NaN</td>\n",
              "      <td>[]</td>\n",
              "      <td>90007.0</td>\n",
              "      <td>Los Angeles</td>\n",
              "      <td>['1201-1299 W 20th St', 'Los Angeles, CA 90007']</td>\n",
              "      <td>https://www.yelp.com/biz/tacos-tamix-truck-1-l...</td>\n",
              "      <td>https://s3-media2.fl.yelpcdn.com/bphoto/x_2B6l...</td>\n",
              "      <td>33.726075</td>\n",
              "      <td>-118.303595</td>\n",
              "      <td>['https://s3-media2.fl.yelpcdn.com/bphoto/x_2B...</td>\n",
              "      <td>NaN</td>\n",
              "    </tr>\n",
              "  </tbody>\n",
              "</table>\n",
              "<p>10710 rows × 21 columns</p>\n",
              "</div>"
            ],
            "text/plain": [
              "                           id  ... cross_streets\n",
              "0      nzgC5hhlnSq2DYbJbtH5MQ  ...           NaN\n",
              "1      i-2aG9_PQBEy7LrsRv0Ivg  ...           NaN\n",
              "2      DJoeogRsOW5s9MzgveHQ2A  ...           NaN\n",
              "3      hwWfv3sSxV3a47UAdSVT5w  ...           NaN\n",
              "4      TxU0fwF2N2nVhCpzokc1Pg  ...           NaN\n",
              "...                       ...  ...           ...\n",
              "10705  7mOOAeGIh2QL3GBCbAspYA  ...           NaN\n",
              "10706  Qd8G5bJaOQp17q33q-5rjg  ...           NaN\n",
              "10707  tNQjsxKstD0pHs-iVjnsrw  ...           NaN\n",
              "10708  A1k_7CpM0cFoEN2I-6gC2A  ...           NaN\n",
              "10709  R3LoXVj1nnc7FE7klhJdLA  ...           NaN\n",
              "\n",
              "[10710 rows x 21 columns]"
            ]
          },
          "metadata": {},
          "execution_count": 4
        }
      ]
    },
    {
      "cell_type": "code",
      "metadata": {
        "colab": {
          "base_uri": "https://localhost:8080/",
          "height": 1000
        },
        "id": "vkK7w_NL3aIn",
        "outputId": "d091f0c5-9378-4635-b1a1-3d946c132610"
      },
      "source": [
        "dataset"
      ],
      "execution_count": 5,
      "outputs": [
        {
          "output_type": "execute_result",
          "data": {
            "text/html": [
              "<div>\n",
              "<style scoped>\n",
              "    .dataframe tbody tr th:only-of-type {\n",
              "        vertical-align: middle;\n",
              "    }\n",
              "\n",
              "    .dataframe tbody tr th {\n",
              "        vertical-align: top;\n",
              "    }\n",
              "\n",
              "    .dataframe thead th {\n",
              "        text-align: right;\n",
              "    }\n",
              "</style>\n",
              "<table border=\"1\" class=\"dataframe\">\n",
              "  <thead>\n",
              "    <tr style=\"text-align: right;\">\n",
              "      <th></th>\n",
              "      <th>id</th>\n",
              "      <th>name</th>\n",
              "      <th>is_claimed</th>\n",
              "      <th>is_closed</th>\n",
              "      <th>phone</th>\n",
              "      <th>review_count</th>\n",
              "      <th>categories01</th>\n",
              "      <th>categories02</th>\n",
              "      <th>categories03</th>\n",
              "      <th>rating</th>\n",
              "      <th>price</th>\n",
              "      <th>transactions</th>\n",
              "      <th>zip_code</th>\n",
              "      <th>city</th>\n",
              "      <th>address</th>\n",
              "      <th>restaurant_url</th>\n",
              "      <th>image_url</th>\n",
              "      <th>latitude</th>\n",
              "      <th>longitude</th>\n",
              "      <th>photos</th>\n",
              "      <th>cross_streets</th>\n",
              "    </tr>\n",
              "  </thead>\n",
              "  <tbody>\n",
              "    <tr>\n",
              "      <th>0</th>\n",
              "      <td>nzgC5hhlnSq2DYbJbtH5MQ</td>\n",
              "      <td>Foxy's Landing &amp; Restaurant</td>\n",
              "      <td>True</td>\n",
              "      <td>False</td>\n",
              "      <td>1.661949e+10</td>\n",
              "      <td>52</td>\n",
              "      <td>breakfast_brunch</td>\n",
              "      <td>tradamerican</td>\n",
              "      <td>NaN</td>\n",
              "      <td>4.0</td>\n",
              "      <td>$$</td>\n",
              "      <td>[]</td>\n",
              "      <td>93536.0</td>\n",
              "      <td>Lancaster</td>\n",
              "      <td>['4555 W Avenue G', 'Lancaster, CA 93536']</td>\n",
              "      <td>https://www.yelp.com/biz/foxys-landing-and-res...</td>\n",
              "      <td>https://s3-media1.fl.yelpcdn.com/bphoto/LooWtz...</td>\n",
              "      <td>34.738829</td>\n",
              "      <td>-118.216215</td>\n",
              "      <td>['https://s3-media1.fl.yelpcdn.com/bphoto/LooW...</td>\n",
              "      <td>NaN</td>\n",
              "    </tr>\n",
              "    <tr>\n",
              "      <th>1</th>\n",
              "      <td>i-2aG9_PQBEy7LrsRv0Ivg</td>\n",
              "      <td>Mosman's Steakhouse</td>\n",
              "      <td>True</td>\n",
              "      <td>False</td>\n",
              "      <td>1.661949e+10</td>\n",
              "      <td>63</td>\n",
              "      <td>bars</td>\n",
              "      <td>steak</td>\n",
              "      <td>NaN</td>\n",
              "      <td>3.5</td>\n",
              "      <td>$$</td>\n",
              "      <td>[]</td>\n",
              "      <td>93536.0</td>\n",
              "      <td>Lancaster</td>\n",
              "      <td>['46645 W 60th W', 'Lancaster, CA 93536']</td>\n",
              "      <td>https://www.yelp.com/biz/mosmans-steakhouse-la...</td>\n",
              "      <td>https://s3-media3.fl.yelpcdn.com/bphoto/JJ3mkC...</td>\n",
              "      <td>34.730580</td>\n",
              "      <td>-118.238360</td>\n",
              "      <td>['https://s3-media3.fl.yelpcdn.com/bphoto/JJ3m...</td>\n",
              "      <td>NaN</td>\n",
              "    </tr>\n",
              "    <tr>\n",
              "      <th>2</th>\n",
              "      <td>DJoeogRsOW5s9MzgveHQ2A</td>\n",
              "      <td>El Tamarindo</td>\n",
              "      <td>True</td>\n",
              "      <td>False</td>\n",
              "      <td>1.661723e+10</td>\n",
              "      <td>11</td>\n",
              "      <td>salvadoran</td>\n",
              "      <td>NaN</td>\n",
              "      <td>NaN</td>\n",
              "      <td>3.5</td>\n",
              "      <td>$</td>\n",
              "      <td>[]</td>\n",
              "      <td>93534.0</td>\n",
              "      <td>Lancaster</td>\n",
              "      <td>['551 W Ave I', 'Ste E', 'Lancaster, CA 93534']</td>\n",
              "      <td>https://www.yelp.com/biz/el-tamarindo-lancaste...</td>\n",
              "      <td>https://s3-media1.fl.yelpcdn.com/bphoto/UMSkfH...</td>\n",
              "      <td>34.707469</td>\n",
              "      <td>-118.146286</td>\n",
              "      <td>['https://s3-media1.fl.yelpcdn.com/bphoto/UMSk...</td>\n",
              "      <td>NaN</td>\n",
              "    </tr>\n",
              "    <tr>\n",
              "      <th>3</th>\n",
              "      <td>hwWfv3sSxV3a47UAdSVT5w</td>\n",
              "      <td>Subway</td>\n",
              "      <td>True</td>\n",
              "      <td>False</td>\n",
              "      <td>1.661730e+10</td>\n",
              "      <td>13</td>\n",
              "      <td>sandwiches</td>\n",
              "      <td>NaN</td>\n",
              "      <td>NaN</td>\n",
              "      <td>2.5</td>\n",
              "      <td>$</td>\n",
              "      <td>['delivery', 'pickup']</td>\n",
              "      <td>93535.0</td>\n",
              "      <td>Lancaster</td>\n",
              "      <td>['1821 W Ave I', 'Unit 103', 'Lancaster, CA 93...</td>\n",
              "      <td>https://www.yelp.com/biz/subway-lancaster-106?...</td>\n",
              "      <td>https://s3-media3.fl.yelpcdn.com/bphoto/4Yo7Ea...</td>\n",
              "      <td>34.705218</td>\n",
              "      <td>-118.164180</td>\n",
              "      <td>['https://s3-media3.fl.yelpcdn.com/bphoto/4Yo7...</td>\n",
              "      <td>NaN</td>\n",
              "    </tr>\n",
              "    <tr>\n",
              "      <th>4</th>\n",
              "      <td>TxU0fwF2N2nVhCpzokc1Pg</td>\n",
              "      <td>Little Caesars</td>\n",
              "      <td>True</td>\n",
              "      <td>False</td>\n",
              "      <td>1.661946e+10</td>\n",
              "      <td>54</td>\n",
              "      <td>pizza</td>\n",
              "      <td>NaN</td>\n",
              "      <td>NaN</td>\n",
              "      <td>1.5</td>\n",
              "      <td>$</td>\n",
              "      <td>[]</td>\n",
              "      <td>93534.0</td>\n",
              "      <td>Lancaster</td>\n",
              "      <td>['1841 W Ave I', 'Bldg 2, Ste D', 'Lancaster, ...</td>\n",
              "      <td>https://www.yelp.com/biz/little-caesars-lancas...</td>\n",
              "      <td>https://s3-media2.fl.yelpcdn.com/bphoto/-Fz1W5...</td>\n",
              "      <td>34.705100</td>\n",
              "      <td>-118.164870</td>\n",
              "      <td>['https://s3-media2.fl.yelpcdn.com/bphoto/-Fz1...</td>\n",
              "      <td>NaN</td>\n",
              "    </tr>\n",
              "    <tr>\n",
              "      <th>...</th>\n",
              "      <td>...</td>\n",
              "      <td>...</td>\n",
              "      <td>...</td>\n",
              "      <td>...</td>\n",
              "      <td>...</td>\n",
              "      <td>...</td>\n",
              "      <td>...</td>\n",
              "      <td>...</td>\n",
              "      <td>...</td>\n",
              "      <td>...</td>\n",
              "      <td>...</td>\n",
              "      <td>...</td>\n",
              "      <td>...</td>\n",
              "      <td>...</td>\n",
              "      <td>...</td>\n",
              "      <td>...</td>\n",
              "      <td>...</td>\n",
              "      <td>...</td>\n",
              "      <td>...</td>\n",
              "      <td>...</td>\n",
              "      <td>...</td>\n",
              "    </tr>\n",
              "    <tr>\n",
              "      <th>10705</th>\n",
              "      <td>7mOOAeGIh2QL3GBCbAspYA</td>\n",
              "      <td>San Antonio Restaurant</td>\n",
              "      <td>True</td>\n",
              "      <td>False</td>\n",
              "      <td>1.424287e+10</td>\n",
              "      <td>12</td>\n",
              "      <td>mexican</td>\n",
              "      <td>salvadoran</td>\n",
              "      <td>NaN</td>\n",
              "      <td>4.0</td>\n",
              "      <td>NaN</td>\n",
              "      <td>['delivery', 'pickup']</td>\n",
              "      <td>90731.0</td>\n",
              "      <td>SAN PEDRO</td>\n",
              "      <td>['234 N Pacific Ave', 'SAN PEDRO, CA 90731']</td>\n",
              "      <td>https://www.yelp.com/biz/san-antonio-restauran...</td>\n",
              "      <td>https://s3-media2.fl.yelpcdn.com/bphoto/fbWrH0...</td>\n",
              "      <td>33.744806</td>\n",
              "      <td>-118.287750</td>\n",
              "      <td>['https://s3-media2.fl.yelpcdn.com/bphoto/fbWr...</td>\n",
              "      <td>NaN</td>\n",
              "    </tr>\n",
              "    <tr>\n",
              "      <th>10706</th>\n",
              "      <td>Qd8G5bJaOQp17q33q-5rjg</td>\n",
              "      <td>Prontos Market</td>\n",
              "      <td>False</td>\n",
              "      <td>False</td>\n",
              "      <td>NaN</td>\n",
              "      <td>3</td>\n",
              "      <td>mexican</td>\n",
              "      <td>importedfood</td>\n",
              "      <td>NaN</td>\n",
              "      <td>3.5</td>\n",
              "      <td>NaN</td>\n",
              "      <td>[]</td>\n",
              "      <td>90731.0</td>\n",
              "      <td>Los Angeles</td>\n",
              "      <td>['210 N Pacific Ave', 'Los Angeles, CA 90731']</td>\n",
              "      <td>https://www.yelp.com/biz/prontos-market-los-an...</td>\n",
              "      <td>https://s3-media3.fl.yelpcdn.com/bphoto/GYHteF...</td>\n",
              "      <td>33.744434</td>\n",
              "      <td>-118.287743</td>\n",
              "      <td>['https://s3-media3.fl.yelpcdn.com/bphoto/GYHt...</td>\n",
              "      <td>NaN</td>\n",
              "    </tr>\n",
              "    <tr>\n",
              "      <th>10707</th>\n",
              "      <td>tNQjsxKstD0pHs-iVjnsrw</td>\n",
              "      <td>El Pollo Loco</td>\n",
              "      <td>True</td>\n",
              "      <td>False</td>\n",
              "      <td>1.310241e+10</td>\n",
              "      <td>165</td>\n",
              "      <td>mexican</td>\n",
              "      <td>hotdogs</td>\n",
              "      <td>NaN</td>\n",
              "      <td>1.5</td>\n",
              "      <td>$</td>\n",
              "      <td>['delivery']</td>\n",
              "      <td>90731.0</td>\n",
              "      <td>San Pedro</td>\n",
              "      <td>['215 N Gaffey St', 'San Pedro, CA 90731']</td>\n",
              "      <td>https://www.yelp.com/biz/el-pollo-loco-san-ped...</td>\n",
              "      <td>https://s3-media4.fl.yelpcdn.com/bphoto/ocue3R...</td>\n",
              "      <td>33.744414</td>\n",
              "      <td>-118.292542</td>\n",
              "      <td>['https://s3-media4.fl.yelpcdn.com/bphoto/ocue...</td>\n",
              "      <td>NaN</td>\n",
              "    </tr>\n",
              "    <tr>\n",
              "      <th>10708</th>\n",
              "      <td>A1k_7CpM0cFoEN2I-6gC2A</td>\n",
              "      <td>La Perla Tapatia Meat Market</td>\n",
              "      <td>True</td>\n",
              "      <td>False</td>\n",
              "      <td>1.310221e+10</td>\n",
              "      <td>81</td>\n",
              "      <td>mexican</td>\n",
              "      <td>meats</td>\n",
              "      <td>NaN</td>\n",
              "      <td>4.5</td>\n",
              "      <td>$</td>\n",
              "      <td>['delivery', 'pickup']</td>\n",
              "      <td>90731.0</td>\n",
              "      <td>Los Angeles</td>\n",
              "      <td>['210 N Pacific Ave', 'Los Angeles, CA 90731']</td>\n",
              "      <td>https://www.yelp.com/biz/la-perla-tapatia-meat...</td>\n",
              "      <td>https://s3-media1.fl.yelpcdn.com/bphoto/xFQsSX...</td>\n",
              "      <td>33.744398</td>\n",
              "      <td>-118.287745</td>\n",
              "      <td>['https://s3-media1.fl.yelpcdn.com/bphoto/xFQs...</td>\n",
              "      <td>NaN</td>\n",
              "    </tr>\n",
              "    <tr>\n",
              "      <th>10709</th>\n",
              "      <td>R3LoXVj1nnc7FE7klhJdLA</td>\n",
              "      <td>Tacos Tamix Truck #1</td>\n",
              "      <td>False</td>\n",
              "      <td>False</td>\n",
              "      <td>1.323744e+10</td>\n",
              "      <td>3</td>\n",
              "      <td>foodtrucks</td>\n",
              "      <td>tacos</td>\n",
              "      <td>NaN</td>\n",
              "      <td>3.5</td>\n",
              "      <td>NaN</td>\n",
              "      <td>[]</td>\n",
              "      <td>90007.0</td>\n",
              "      <td>Los Angeles</td>\n",
              "      <td>['1201-1299 W 20th St', 'Los Angeles, CA 90007']</td>\n",
              "      <td>https://www.yelp.com/biz/tacos-tamix-truck-1-l...</td>\n",
              "      <td>https://s3-media2.fl.yelpcdn.com/bphoto/x_2B6l...</td>\n",
              "      <td>33.726075</td>\n",
              "      <td>-118.303595</td>\n",
              "      <td>['https://s3-media2.fl.yelpcdn.com/bphoto/x_2B...</td>\n",
              "      <td>NaN</td>\n",
              "    </tr>\n",
              "  </tbody>\n",
              "</table>\n",
              "<p>10710 rows × 21 columns</p>\n",
              "</div>"
            ],
            "text/plain": [
              "                           id  ... cross_streets\n",
              "0      nzgC5hhlnSq2DYbJbtH5MQ  ...           NaN\n",
              "1      i-2aG9_PQBEy7LrsRv0Ivg  ...           NaN\n",
              "2      DJoeogRsOW5s9MzgveHQ2A  ...           NaN\n",
              "3      hwWfv3sSxV3a47UAdSVT5w  ...           NaN\n",
              "4      TxU0fwF2N2nVhCpzokc1Pg  ...           NaN\n",
              "...                       ...  ...           ...\n",
              "10705  7mOOAeGIh2QL3GBCbAspYA  ...           NaN\n",
              "10706  Qd8G5bJaOQp17q33q-5rjg  ...           NaN\n",
              "10707  tNQjsxKstD0pHs-iVjnsrw  ...           NaN\n",
              "10708  A1k_7CpM0cFoEN2I-6gC2A  ...           NaN\n",
              "10709  R3LoXVj1nnc7FE7klhJdLA  ...           NaN\n",
              "\n",
              "[10710 rows x 21 columns]"
            ]
          },
          "metadata": {},
          "execution_count": 5
        }
      ]
    },
    {
      "cell_type": "code",
      "metadata": {
        "colab": {
          "base_uri": "https://localhost:8080/",
          "height": 424
        },
        "id": "zMpAfVN87vfi",
        "outputId": "3393952d-902a-41b3-c63a-fa7f847a8ae1"
      },
      "source": [
        "data = pd.read_excel ('Feature_and_independent.xlsx')\n",
        "data"
      ],
      "execution_count": 135,
      "outputs": [
        {
          "output_type": "execute_result",
          "data": {
            "text/html": [
              "<div>\n",
              "<style scoped>\n",
              "    .dataframe tbody tr th:only-of-type {\n",
              "        vertical-align: middle;\n",
              "    }\n",
              "\n",
              "    .dataframe tbody tr th {\n",
              "        vertical-align: top;\n",
              "    }\n",
              "\n",
              "    .dataframe thead th {\n",
              "        text-align: right;\n",
              "    }\n",
              "</style>\n",
              "<table border=\"1\" class=\"dataframe\">\n",
              "  <thead>\n",
              "    <tr style=\"text-align: right;\">\n",
              "      <th></th>\n",
              "      <th>id</th>\n",
              "      <th>name</th>\n",
              "      <th>review_count</th>\n",
              "      <th>rating</th>\n",
              "      <th>is_claimed</th>\n",
              "    </tr>\n",
              "  </thead>\n",
              "  <tbody>\n",
              "    <tr>\n",
              "      <th>0</th>\n",
              "      <td>nzgC5hhlnSq2DYbJbtH5MQ</td>\n",
              "      <td>Foxy's Landing &amp; Restaurant</td>\n",
              "      <td>52</td>\n",
              "      <td>4.0</td>\n",
              "      <td>True</td>\n",
              "    </tr>\n",
              "    <tr>\n",
              "      <th>1</th>\n",
              "      <td>i-2aG9_PQBEy7LrsRv0Ivg</td>\n",
              "      <td>Mosman's Steakhouse</td>\n",
              "      <td>63</td>\n",
              "      <td>3.5</td>\n",
              "      <td>True</td>\n",
              "    </tr>\n",
              "    <tr>\n",
              "      <th>2</th>\n",
              "      <td>DJoeogRsOW5s9MzgveHQ2A</td>\n",
              "      <td>El Tamarindo</td>\n",
              "      <td>11</td>\n",
              "      <td>3.5</td>\n",
              "      <td>True</td>\n",
              "    </tr>\n",
              "    <tr>\n",
              "      <th>3</th>\n",
              "      <td>hwWfv3sSxV3a47UAdSVT5w</td>\n",
              "      <td>Subway</td>\n",
              "      <td>13</td>\n",
              "      <td>2.5</td>\n",
              "      <td>True</td>\n",
              "    </tr>\n",
              "    <tr>\n",
              "      <th>4</th>\n",
              "      <td>TxU0fwF2N2nVhCpzokc1Pg</td>\n",
              "      <td>Little Caesars</td>\n",
              "      <td>54</td>\n",
              "      <td>1.5</td>\n",
              "      <td>True</td>\n",
              "    </tr>\n",
              "    <tr>\n",
              "      <th>...</th>\n",
              "      <td>...</td>\n",
              "      <td>...</td>\n",
              "      <td>...</td>\n",
              "      <td>...</td>\n",
              "      <td>...</td>\n",
              "    </tr>\n",
              "    <tr>\n",
              "      <th>10705</th>\n",
              "      <td>7mOOAeGIh2QL3GBCbAspYA</td>\n",
              "      <td>San Antonio Restaurant</td>\n",
              "      <td>12</td>\n",
              "      <td>4.0</td>\n",
              "      <td>True</td>\n",
              "    </tr>\n",
              "    <tr>\n",
              "      <th>10706</th>\n",
              "      <td>Qd8G5bJaOQp17q33q-5rjg</td>\n",
              "      <td>Prontos Market</td>\n",
              "      <td>3</td>\n",
              "      <td>3.5</td>\n",
              "      <td>False</td>\n",
              "    </tr>\n",
              "    <tr>\n",
              "      <th>10707</th>\n",
              "      <td>tNQjsxKstD0pHs-iVjnsrw</td>\n",
              "      <td>El Pollo Loco</td>\n",
              "      <td>165</td>\n",
              "      <td>1.5</td>\n",
              "      <td>True</td>\n",
              "    </tr>\n",
              "    <tr>\n",
              "      <th>10708</th>\n",
              "      <td>A1k_7CpM0cFoEN2I-6gC2A</td>\n",
              "      <td>La Perla Tapatia Meat Market</td>\n",
              "      <td>81</td>\n",
              "      <td>4.5</td>\n",
              "      <td>True</td>\n",
              "    </tr>\n",
              "    <tr>\n",
              "      <th>10709</th>\n",
              "      <td>R3LoXVj1nnc7FE7klhJdLA</td>\n",
              "      <td>Tacos Tamix Truck #1</td>\n",
              "      <td>3</td>\n",
              "      <td>3.5</td>\n",
              "      <td>False</td>\n",
              "    </tr>\n",
              "  </tbody>\n",
              "</table>\n",
              "<p>10710 rows × 5 columns</p>\n",
              "</div>"
            ],
            "text/plain": [
              "                           id                          name  ...  rating  is_claimed\n",
              "0      nzgC5hhlnSq2DYbJbtH5MQ   Foxy's Landing & Restaurant  ...     4.0        True\n",
              "1      i-2aG9_PQBEy7LrsRv0Ivg           Mosman's Steakhouse  ...     3.5        True\n",
              "2      DJoeogRsOW5s9MzgveHQ2A                  El Tamarindo  ...     3.5        True\n",
              "3      hwWfv3sSxV3a47UAdSVT5w                        Subway  ...     2.5        True\n",
              "4      TxU0fwF2N2nVhCpzokc1Pg                Little Caesars  ...     1.5        True\n",
              "...                       ...                           ...  ...     ...         ...\n",
              "10705  7mOOAeGIh2QL3GBCbAspYA        San Antonio Restaurant  ...     4.0        True\n",
              "10706  Qd8G5bJaOQp17q33q-5rjg                Prontos Market  ...     3.5       False\n",
              "10707  tNQjsxKstD0pHs-iVjnsrw                 El Pollo Loco  ...     1.5        True\n",
              "10708  A1k_7CpM0cFoEN2I-6gC2A  La Perla Tapatia Meat Market  ...     4.5        True\n",
              "10709  R3LoXVj1nnc7FE7klhJdLA          Tacos Tamix Truck #1  ...     3.5       False\n",
              "\n",
              "[10710 rows x 5 columns]"
            ]
          },
          "metadata": {},
          "execution_count": 135
        }
      ]
    },
    {
      "cell_type": "code",
      "metadata": {
        "id": "rkXM5DSo__Qk"
      },
      "source": [
        "from sklearn.preprocessing import LabelEncoder"
      ],
      "execution_count": 136,
      "outputs": []
    },
    {
      "cell_type": "code",
      "metadata": {
        "id": "YH1FlJ4XC2Wo"
      },
      "source": [
        "enc = LabelEncoder()"
      ],
      "execution_count": 137,
      "outputs": []
    },
    {
      "cell_type": "code",
      "metadata": {
        "id": "chZYIUdSCgLT"
      },
      "source": [
        "data ['id'] = enc.fit_transform(data['id'].values)\n",
        "data ['name'] = enc.fit_transform(data['name'].values)\n",
        "data ['is_claimed'] = enc.fit_transform(data['is_claimed'].values)\n"
      ],
      "execution_count": 138,
      "outputs": []
    },
    {
      "cell_type": "code",
      "metadata": {
        "colab": {
          "base_uri": "https://localhost:8080/",
          "height": 424
        },
        "id": "DJFyhE-_C8pb",
        "outputId": "83c6d358-366f-415e-90c7-e3893b89aa36"
      },
      "source": [
        "data"
      ],
      "execution_count": 139,
      "outputs": [
        {
          "output_type": "execute_result",
          "data": {
            "text/html": [
              "<div>\n",
              "<style scoped>\n",
              "    .dataframe tbody tr th:only-of-type {\n",
              "        vertical-align: middle;\n",
              "    }\n",
              "\n",
              "    .dataframe tbody tr th {\n",
              "        vertical-align: top;\n",
              "    }\n",
              "\n",
              "    .dataframe thead th {\n",
              "        text-align: right;\n",
              "    }\n",
              "</style>\n",
              "<table border=\"1\" class=\"dataframe\">\n",
              "  <thead>\n",
              "    <tr style=\"text-align: right;\">\n",
              "      <th></th>\n",
              "      <th>id</th>\n",
              "      <th>name</th>\n",
              "      <th>review_count</th>\n",
              "      <th>rating</th>\n",
              "      <th>is_claimed</th>\n",
              "    </tr>\n",
              "  </thead>\n",
              "  <tbody>\n",
              "    <tr>\n",
              "      <th>0</th>\n",
              "      <td>8696</td>\n",
              "      <td>2384</td>\n",
              "      <td>52</td>\n",
              "      <td>4.0</td>\n",
              "      <td>1</td>\n",
              "    </tr>\n",
              "    <tr>\n",
              "      <th>1</th>\n",
              "      <td>7645</td>\n",
              "      <td>4634</td>\n",
              "      <td>63</td>\n",
              "      <td>3.5</td>\n",
              "      <td>1</td>\n",
              "    </tr>\n",
              "    <tr>\n",
              "      <th>2</th>\n",
              "      <td>2250</td>\n",
              "      <td>2151</td>\n",
              "      <td>11</td>\n",
              "      <td>3.5</td>\n",
              "      <td>1</td>\n",
              "    </tr>\n",
              "    <tr>\n",
              "      <th>3</th>\n",
              "      <td>7635</td>\n",
              "      <td>6375</td>\n",
              "      <td>13</td>\n",
              "      <td>2.5</td>\n",
              "      <td>1</td>\n",
              "    </tr>\n",
              "    <tr>\n",
              "      <th>4</th>\n",
              "      <td>5030</td>\n",
              "      <td>3910</td>\n",
              "      <td>54</td>\n",
              "      <td>1.5</td>\n",
              "      <td>1</td>\n",
              "    </tr>\n",
              "    <tr>\n",
              "      <th>...</th>\n",
              "      <td>...</td>\n",
              "      <td>...</td>\n",
              "      <td>...</td>\n",
              "      <td>...</td>\n",
              "      <td>...</td>\n",
              "    </tr>\n",
              "    <tr>\n",
              "      <th>10705</th>\n",
              "      <td>1391</td>\n",
              "      <td>5956</td>\n",
              "      <td>12</td>\n",
              "      <td>4.0</td>\n",
              "      <td>1</td>\n",
              "    </tr>\n",
              "    <tr>\n",
              "      <th>10706</th>\n",
              "      <td>4473</td>\n",
              "      <td>5528</td>\n",
              "      <td>3</td>\n",
              "      <td>3.5</td>\n",
              "      <td>0</td>\n",
              "    </tr>\n",
              "    <tr>\n",
              "      <th>10707</th>\n",
              "      <td>9606</td>\n",
              "      <td>2099</td>\n",
              "      <td>165</td>\n",
              "      <td>1.5</td>\n",
              "      <td>1</td>\n",
              "    </tr>\n",
              "    <tr>\n",
              "      <th>10708</th>\n",
              "      <td>1725</td>\n",
              "      <td>3713</td>\n",
              "      <td>81</td>\n",
              "      <td>4.5</td>\n",
              "      <td>1</td>\n",
              "    </tr>\n",
              "    <tr>\n",
              "      <th>10709</th>\n",
              "      <td>4538</td>\n",
              "      <td>6747</td>\n",
              "      <td>3</td>\n",
              "      <td>3.5</td>\n",
              "      <td>0</td>\n",
              "    </tr>\n",
              "  </tbody>\n",
              "</table>\n",
              "<p>10710 rows × 5 columns</p>\n",
              "</div>"
            ],
            "text/plain": [
              "         id  name  review_count  rating  is_claimed\n",
              "0      8696  2384            52     4.0           1\n",
              "1      7645  4634            63     3.5           1\n",
              "2      2250  2151            11     3.5           1\n",
              "3      7635  6375            13     2.5           1\n",
              "4      5030  3910            54     1.5           1\n",
              "...     ...   ...           ...     ...         ...\n",
              "10705  1391  5956            12     4.0           1\n",
              "10706  4473  5528             3     3.5           0\n",
              "10707  9606  2099           165     1.5           1\n",
              "10708  1725  3713            81     4.5           1\n",
              "10709  4538  6747             3     3.5           0\n",
              "\n",
              "[10710 rows x 5 columns]"
            ]
          },
          "metadata": {},
          "execution_count": 139
        }
      ]
    },
    {
      "cell_type": "code",
      "metadata": {
        "id": "oJGWPvV6Fmmq"
      },
      "source": [
        "X = data.iloc[:,:4].values\n",
        "Y = data.iloc[:, 4].values"
      ],
      "execution_count": 141,
      "outputs": []
    },
    {
      "cell_type": "code",
      "metadata": {
        "colab": {
          "base_uri": "https://localhost:8080/"
        },
        "id": "6LgcQBtxF06A",
        "outputId": "37be9c5b-8ff4-4287-e791-5eb5ceb4ad41"
      },
      "source": [
        "print (X)"
      ],
      "execution_count": 142,
      "outputs": [
        {
          "output_type": "stream",
          "name": "stdout",
          "text": [
            "[[8.696e+03 2.384e+03 5.200e+01 4.000e+00]\n",
            " [7.645e+03 4.634e+03 6.300e+01 3.500e+00]\n",
            " [2.250e+03 2.151e+03 1.100e+01 3.500e+00]\n",
            " ...\n",
            " [9.606e+03 2.099e+03 1.650e+02 1.500e+00]\n",
            " [1.725e+03 3.713e+03 8.100e+01 4.500e+00]\n",
            " [4.538e+03 6.747e+03 3.000e+00 3.500e+00]]\n"
          ]
        }
      ]
    },
    {
      "cell_type": "code",
      "metadata": {
        "colab": {
          "base_uri": "https://localhost:8080/"
        },
        "id": "qYUylKEfF8iT",
        "outputId": "9bc3fb82-7253-487f-ff4e-e21c903bf09c"
      },
      "source": [
        "print (Y)"
      ],
      "execution_count": 143,
      "outputs": [
        {
          "output_type": "stream",
          "name": "stdout",
          "text": [
            "[1 1 1 ... 1 1 0]\n"
          ]
        }
      ]
    },
    {
      "cell_type": "markdown",
      "metadata": {
        "id": "YLHLJtDjKKvS"
      },
      "source": [
        "Split Data"
      ]
    },
    {
      "cell_type": "code",
      "metadata": {
        "id": "EVZnjbGlKOaU"
      },
      "source": [
        "from sklearn.model_selection import train_test_split"
      ],
      "execution_count": 144,
      "outputs": []
    },
    {
      "cell_type": "code",
      "metadata": {
        "id": "x3mTE_NTNfnZ"
      },
      "source": [
        "X_train, X_test, Y_train, Y_test = train_test_split(X, Y, test_size = 0.2, random_state = 0)"
      ],
      "execution_count": 145,
      "outputs": []
    },
    {
      "cell_type": "code",
      "metadata": {
        "colab": {
          "base_uri": "https://localhost:8080/"
        },
        "id": "kiTacfcPP-Im",
        "outputId": "d8174554-7e75-4208-d47a-e6689648298c"
      },
      "source": [
        "print (X_train)"
      ],
      "execution_count": 146,
      "outputs": [
        {
          "output_type": "stream",
          "name": "stdout",
          "text": [
            "[[9.4150e+03 6.4160e+03 1.0000e+00 1.0000e+00]\n",
            " [1.4890e+03 1.8000e+03 1.3700e+02 2.0000e+00]\n",
            " [3.7000e+01 5.9700e+02 7.1000e+01 4.5000e+00]\n",
            " ...\n",
            " [1.8030e+03 4.1900e+03 1.7900e+02 4.0000e+00]\n",
            " [3.4940e+03 5.3670e+03 5.1000e+01 3.0000e+00]\n",
            " [1.0178e+04 5.2100e+03 2.6300e+02 4.5000e+00]]\n"
          ]
        }
      ]
    },
    {
      "cell_type": "code",
      "metadata": {
        "colab": {
          "base_uri": "https://localhost:8080/"
        },
        "id": "ypsyCtPOQop2",
        "outputId": "a0c9d342-cc06-4d11-fc2b-0636c8e8a772"
      },
      "source": [
        "print (X_test)"
      ],
      "execution_count": 147,
      "outputs": [
        {
          "output_type": "stream",
          "name": "stdout",
          "text": [
            "[[1.320e+03 3.006e+03 6.785e+03 4.500e+00]\n",
            " [6.939e+03 3.520e+03 2.860e+02 4.500e+00]\n",
            " [8.516e+03 3.154e+03 3.600e+01 2.500e+00]\n",
            " ...\n",
            " [8.429e+03 1.312e+03 6.200e+01 3.000e+00]\n",
            " [5.248e+03 3.999e+03 3.100e+01 4.000e+00]\n",
            " [6.340e+03 6.989e+03 8.400e+01 4.500e+00]]\n"
          ]
        }
      ]
    },
    {
      "cell_type": "markdown",
      "metadata": {
        "id": "WZBWkGArQsBN"
      },
      "source": [
        "Feature Scaling"
      ]
    },
    {
      "cell_type": "code",
      "metadata": {
        "id": "dCb2YFBNQvYD"
      },
      "source": [
        "from sklearn.preprocessing import StandardScaler"
      ],
      "execution_count": 148,
      "outputs": []
    },
    {
      "cell_type": "code",
      "metadata": {
        "id": "37zSR6e5QvfQ"
      },
      "source": [
        "sc = StandardScaler()\n",
        "X_train = sc.fit_transform(X_train)\n",
        "X_test = sc.fit_transform(X_test)\n"
      ],
      "execution_count": 158,
      "outputs": []
    },
    {
      "cell_type": "code",
      "metadata": {
        "colab": {
          "base_uri": "https://localhost:8080/"
        },
        "id": "WKM7NGvxSTYv",
        "outputId": "be87e0c0-1666-460b-bbfc-b433b241f1b8"
      },
      "source": [
        "print (X_train)"
      ],
      "execution_count": 150,
      "outputs": [
        {
          "output_type": "stream",
          "name": "stdout",
          "text": [
            "[[ 1.31671247  1.00112066 -0.49519056 -2.88914442]\n",
            " [-1.24885167 -0.98936204 -0.25323223 -1.78025964]\n",
            " [-1.71884903 -1.50811219 -0.37065319  0.99195231]\n",
            " ...\n",
            " [-1.14721312  0.04123884 -0.1785098   0.43750992]\n",
            " [-0.59985392  0.54877743 -0.40623529 -0.67137486]\n",
            " [ 1.56368767  0.48107687 -0.02906495  0.99195231]]\n"
          ]
        }
      ]
    },
    {
      "cell_type": "markdown",
      "metadata": {
        "id": "gfi4-6JKScX6"
      },
      "source": [
        "Training"
      ]
    },
    {
      "cell_type": "code",
      "metadata": {
        "id": "5Elwln-6Sgb3"
      },
      "source": [
        "from sklearn.naive_bayes import GaussianNB\n"
      ],
      "execution_count": 170,
      "outputs": []
    },
    {
      "cell_type": "code",
      "metadata": {
        "id": "PUMu_7jTSo9-"
      },
      "source": [
        "tree_data = GaussianNB()\n"
      ],
      "execution_count": 164,
      "outputs": []
    },
    {
      "cell_type": "code",
      "metadata": {
        "colab": {
          "base_uri": "https://localhost:8080/"
        },
        "id": "2StQ-BUFTtsY",
        "outputId": "39bc95be-9d59-467b-a6af-5b7c497c2707"
      },
      "source": [
        "tree_data.fit(X_train, Y_train)"
      ],
      "execution_count": 165,
      "outputs": [
        {
          "output_type": "execute_result",
          "data": {
            "text/plain": [
              "GaussianNB(priors=None, var_smoothing=1e-09)"
            ]
          },
          "metadata": {},
          "execution_count": 165
        }
      ]
    },
    {
      "cell_type": "markdown",
      "metadata": {
        "id": "OgtXuyjTcmXT"
      },
      "source": [
        "Predict Result"
      ]
    },
    {
      "cell_type": "code",
      "metadata": {
        "id": "uIUBcCEDcomo"
      },
      "source": [
        "Y_pred = tree_data.predict (X_test)"
      ],
      "execution_count": 167,
      "outputs": []
    },
    {
      "cell_type": "code",
      "metadata": {
        "colab": {
          "base_uri": "https://localhost:8080/"
        },
        "id": "vSKk7FIuc85s",
        "outputId": "ec474371-1c36-4cbf-8b8a-dec0ea49d2f8"
      },
      "source": [
        "print (Y_pred)"
      ],
      "execution_count": 168,
      "outputs": [
        {
          "output_type": "stream",
          "name": "stdout",
          "text": [
            "[1 1 0 ... 1 1 1]\n"
          ]
        }
      ]
    },
    {
      "cell_type": "code",
      "metadata": {
        "colab": {
          "base_uri": "https://localhost:8080/"
        },
        "id": "l_a1GT2odAhw",
        "outputId": "8e1813a3-0142-452a-f251-e171870c71aa"
      },
      "source": [
        "print (Y_test)"
      ],
      "execution_count": 169,
      "outputs": [
        {
          "output_type": "stream",
          "name": "stdout",
          "text": [
            "[1 1 1 ... 1 0 1]\n"
          ]
        }
      ]
    },
    {
      "cell_type": "markdown",
      "metadata": {
        "id": "VqY7F4LkdFZG"
      },
      "source": [
        "Evaluasi"
      ]
    },
    {
      "cell_type": "code",
      "metadata": {
        "id": "2JKUWZVqdGXA"
      },
      "source": [
        "from sklearn.metrics import accuracy_score, confusion_matrix, classification_report"
      ],
      "execution_count": 171,
      "outputs": []
    },
    {
      "cell_type": "code",
      "metadata": {
        "id": "FWlrbmgrdVj_"
      },
      "source": [
        "cm = confusion_matrix(Y_test, Y_pred)\n",
        "ac = accuracy_score (Y_test, Y_pred)"
      ],
      "execution_count": 172,
      "outputs": []
    },
    {
      "cell_type": "markdown",
      "metadata": {
        "id": "3ULq2IOsdldF"
      },
      "source": [
        "Nilai Akurasi score"
      ]
    },
    {
      "cell_type": "code",
      "metadata": {
        "colab": {
          "base_uri": "https://localhost:8080/"
        },
        "id": "6TNOlAlIdnmp",
        "outputId": "f8caba57-ca08-4960-a55e-e0165ea67ef3"
      },
      "source": [
        "ac"
      ],
      "execution_count": 173,
      "outputs": [
        {
          "output_type": "execute_result",
          "data": {
            "text/plain": [
              "0.7628384687208216"
            ]
          },
          "metadata": {},
          "execution_count": 173
        }
      ]
    }
  ]
}